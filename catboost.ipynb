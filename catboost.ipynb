{
 "cells": [
  {
   "cell_type": "markdown",
   "id": "b3794f5e-1afc-445e-a1cd-4ccd17abbba0",
   "metadata": {},
   "source": [
    "# Catboost model Spaceship Titanic kaggle"
   ]
  },
  {
   "cell_type": "code",
   "execution_count": 1,
   "id": "51bbb901-7060-4102-b2d8-22511c612e05",
   "metadata": {},
   "outputs": [],
   "source": [
    "# импорт библиотек\n",
    "import pandas as pd\n",
    "import numpy as np\n",
    "import matplotlib.pyplot as plt\n",
    "import optuna\n",
    "\n",
    "from catboost import CatBoostClassifier\n",
    "from sklearn.model_selection import train_test_split, GridSearchCV\n",
    "from sklearn.metrics import classification_report, f1_score\n",
    "from IPython.display import Audio\n",
    "\n"
   ]
  },
  {
   "cell_type": "code",
   "execution_count": 2,
   "id": "c0610ca6-510f-45c6-be8e-2dcd53d85a61",
   "metadata": {},
   "outputs": [],
   "source": [
    "# импорт данных\n",
    "df_sam = pd.read_csv('sample_submission.csv')\n",
    "df = pd.read_csv('train.csv')\n",
    "df_pred = pd.read_csv('test.csv')\n",
    "df_pred_PassengerId = df_pred['PassengerId']"
   ]
  },
  {
   "cell_type": "markdown",
   "id": "47b62ad7-006c-40df-89e4-a8ccefab5eb5",
   "metadata": {},
   "source": [
    "## Знакомство с данными"
   ]
  },
  {
   "cell_type": "code",
   "execution_count": 3,
   "id": "ed9aff2f-ac3d-4828-9963-87e49209f918",
   "metadata": {},
   "outputs": [
    {
     "name": "stdout",
     "output_type": "stream",
     "text": [
      "\u001b[1m\u001b[30mnan значения в основной таблице:\u001b[0m\n",
      "PassengerId       0\n",
      "HomePlanet      201\n",
      "CryoSleep       217\n",
      "Cabin           199\n",
      "Destination     182\n",
      "Age             179\n",
      "VIP             203\n",
      "RoomService     181\n",
      "FoodCourt       183\n",
      "ShoppingMall    208\n",
      "Spa             183\n",
      "VRDeck          188\n",
      "Name            200\n",
      "Transported       0\n",
      "dtype: int64\n",
      "-------------------\n",
      "\u001b[1m\u001b[30mnan значения в таблице для предсказания:\u001b[0m\n",
      "PassengerId       0\n",
      "HomePlanet       87\n",
      "CryoSleep        93\n",
      "Cabin           100\n",
      "Destination      92\n",
      "Age              91\n",
      "VIP              93\n",
      "RoomService      82\n",
      "FoodCourt       106\n",
      "ShoppingMall     98\n",
      "Spa             101\n",
      "VRDeck           80\n",
      "Name             94\n",
      "dtype: int64\n"
     ]
    }
   ],
   "source": [
    "print(\"\\033[1m\" + \"\\033[30m\" + 'nan значения в основной таблице:' + \"\\033[0m\")\n",
    "print(df.isna().sum())\n",
    "print('-------------------')\n",
    "print(\"\\033[1m\" + \"\\033[30m\" + 'nan значения в таблице для предсказания:' + \"\\033[0m\")\n",
    "print(df_pred.isna().sum())"
   ]
  },
  {
   "cell_type": "code",
   "execution_count": 4,
   "id": "3f8c205e-8f95-4744-b09a-3a5f599036a4",
   "metadata": {},
   "outputs": [
    {
     "name": "stdout",
     "output_type": "stream",
     "text": [
      "\u001b[1m\u001b[30mТипы данных  в основной таблице:\u001b[0m\n",
      "PassengerId      object\n",
      "HomePlanet       object\n",
      "CryoSleep        object\n",
      "Cabin            object\n",
      "Destination      object\n",
      "Age             float64\n",
      "VIP              object\n",
      "RoomService     float64\n",
      "FoodCourt       float64\n",
      "ShoppingMall    float64\n",
      "Spa             float64\n",
      "VRDeck          float64\n",
      "Name             object\n",
      "Transported        bool\n",
      "dtype: object\n",
      "-----------------------\n",
      "\u001b[1m\u001b[30mТипы данных в таблице для предсказания:\u001b[0m\n",
      "PassengerId      object\n",
      "HomePlanet       object\n",
      "CryoSleep        object\n",
      "Cabin            object\n",
      "Destination      object\n",
      "Age             float64\n",
      "VIP              object\n",
      "RoomService     float64\n",
      "FoodCourt       float64\n",
      "ShoppingMall    float64\n",
      "Spa             float64\n",
      "VRDeck          float64\n",
      "Name             object\n",
      "dtype: object\n"
     ]
    }
   ],
   "source": [
    "print(\"\\033[1m\" + \"\\033[30m\" + 'Типы данных  в основной таблице:' + \"\\033[0m\")\n",
    "print(df.dtypes)\n",
    "print('-----------------------')\n",
    "print(\"\\033[1m\" + \"\\033[30m\" + 'Типы данных в таблице для предсказания:' + \"\\033[0m\")\n",
    "print(df_pred.dtypes)"
   ]
  },
  {
   "cell_type": "code",
   "execution_count": 5,
   "id": "3bb2ebbd-6ece-4a03-9064-628ca4909f05",
   "metadata": {},
   "outputs": [
    {
     "name": "stdout",
     "output_type": "stream",
     "text": [
      "\u001b[1m\u001b[30mСтатистика для основных данных:\u001b[0m\n",
      "               Age   RoomService     FoodCourt  ShoppingMall           Spa  \\\n",
      "count  8514.000000   8512.000000   8510.000000   8485.000000   8510.000000   \n",
      "mean     28.827930    224.687617    458.077203    173.729169    311.138778   \n",
      "std      14.489021    666.717663   1611.489240    604.696458   1136.705535   \n",
      "min       0.000000      0.000000      0.000000      0.000000      0.000000   \n",
      "25%      19.000000      0.000000      0.000000      0.000000      0.000000   \n",
      "50%      27.000000      0.000000      0.000000      0.000000      0.000000   \n",
      "75%      38.000000     47.000000     76.000000     27.000000     59.000000   \n",
      "max      79.000000  14327.000000  29813.000000  23492.000000  22408.000000   \n",
      "\n",
      "             VRDeck  \n",
      "count   8505.000000  \n",
      "mean     304.854791  \n",
      "std     1145.717189  \n",
      "min        0.000000  \n",
      "25%        0.000000  \n",
      "50%        0.000000  \n",
      "75%       46.000000  \n",
      "max    24133.000000  \n",
      "--------------------------------------------------------------------------\n",
      "\u001b[1m\u001b[30mСтатистика для предсказательных данных:\u001b[0m\n",
      "               Age   RoomService     FoodCourt  ShoppingMall           Spa  \\\n",
      "count  4186.000000   4195.000000   4171.000000   4179.000000   4176.000000   \n",
      "mean     28.658146    219.266269    439.484296    177.295525    303.052443   \n",
      "std      14.179072    607.011289   1527.663045    560.821123   1117.186015   \n",
      "min       0.000000      0.000000      0.000000      0.000000      0.000000   \n",
      "25%      19.000000      0.000000      0.000000      0.000000      0.000000   \n",
      "50%      26.000000      0.000000      0.000000      0.000000      0.000000   \n",
      "75%      37.000000     53.000000     78.000000     33.000000     50.000000   \n",
      "max      79.000000  11567.000000  25273.000000   8292.000000  19844.000000   \n",
      "\n",
      "             VRDeck  \n",
      "count   4197.000000  \n",
      "mean     310.710031  \n",
      "std     1246.994742  \n",
      "min        0.000000  \n",
      "25%        0.000000  \n",
      "50%        0.000000  \n",
      "75%       36.000000  \n",
      "max    22272.000000  \n"
     ]
    }
   ],
   "source": [
    "print(\"\\033[1m\" + \"\\033[30m\" + 'Статистика для основных данных:' + \"\\033[0m\")\n",
    "print(df.describe())\n",
    "print('-' * 74)\n",
    "print(\"\\033[1m\" + \"\\033[30m\" + 'Статистика для предсказательных данных:' + \"\\033[0m\")\n",
    "print(df_pred.describe())"
   ]
  },
  {
   "cell_type": "markdown",
   "id": "bb849cd8-656d-449e-9af8-859c14534ad2",
   "metadata": {},
   "source": [
    "## Подготовка данных"
   ]
  },
  {
   "cell_type": "markdown",
   "id": "85ed5eb0-7f2b-4126-9f48-dfeeffd6d607",
   "metadata": {},
   "source": [
    "### PassengerId\n",
    "- Создаю два столбца 'Group' и 'Number' из столбца 'PassengerId' по разделителю '_', привожу к типу int.\n",
    "- Удаляю PassengerId.\n",
    "- Все действия буду проводить с обоими датасетами сразу."
   ]
  },
  {
   "cell_type": "code",
   "execution_count": 6,
   "id": "18bb4b71-2612-4a10-9168-6cc53e4383f4",
   "metadata": {},
   "outputs": [],
   "source": [
    "df['Group'] = df['PassengerId'].apply(lambda x: x.split('_')[0]).astype('int')\n",
    "df['Number'] = df['PassengerId'].apply(lambda x: x.split('_')[1]).astype('category')\n",
    "df = df.drop('PassengerId', axis=1)\n",
    "\n",
    "df_pred['Group'] = df_pred['PassengerId'].apply(lambda x: x.split('_')[0]).astype('int')\n",
    "df_pred['Number'] = df_pred['PassengerId'].apply(lambda x: x.split('_')[1]).astype('category')\n",
    "df_pred = df_pred.drop('PassengerId', axis=1)"
   ]
  },
  {
   "cell_type": "markdown",
   "id": "001c8542-7b49-4840-b144-6a164081c67e",
   "metadata": {},
   "source": [
    "### Transported\n",
    "- Привожу к числовому типу целевую переменную."
   ]
  },
  {
   "cell_type": "code",
   "execution_count": 7,
   "id": "4647a1a6-dd4f-4815-a6f2-0129e85dc107",
   "metadata": {},
   "outputs": [],
   "source": [
    "# целевой признак в числовой вид\n",
    "df.replace({'Transported': {False: 0, True: 1}}, inplace=True)"
   ]
  },
  {
   "cell_type": "markdown",
   "id": "75bb5447-9db9-43c4-b1ec-d51c8d884c99",
   "metadata": {},
   "source": [
    "### 'RoomService', 'FoodCourt', 'ShoppingMall', 'Spa', 'VRDeck'\n",
    "- NaN значения заменяю на 0.0\n",
    "- Создаю новый признак с суммой всех этих столбцов "
   ]
  },
  {
   "cell_type": "code",
   "execution_count": 8,
   "id": "cbe24bf3-b85b-41db-afbe-a93879b103c2",
   "metadata": {},
   "outputs": [],
   "source": [
    "df[['RoomService', 'FoodCourt', 'ShoppingMall', 'Spa', 'VRDeck']] = df[['RoomService', 'FoodCourt', 'ShoppingMall', 'Spa', 'VRDeck']].fillna(0.0)\n",
    "df['TotalServices'] = df[['RoomService', 'FoodCourt', 'ShoppingMall', 'Spa', 'VRDeck']].sum(axis=1)\n",
    "\n",
    "df_pred[['RoomService', 'FoodCourt', 'ShoppingMall', 'Spa', 'VRDeck']] = df_pred[['RoomService', 'FoodCourt', 'ShoppingMall', 'Spa', 'VRDeck']].fillna(0.0)\n",
    "df_pred['TotalServices'] = df_pred[['RoomService', 'FoodCourt', 'ShoppingMall', 'Spa', 'VRDeck']].sum(axis=1)"
   ]
  },
  {
   "cell_type": "markdown",
   "id": "894c07d2-2825-475b-ab37-8c473d7abcd5",
   "metadata": {},
   "source": [
    "### CryoSleep, HomePlanet, VIP\n",
    "- Заменяю NaN на mode\n",
    "- Преобразую в числовой формат."
   ]
  },
  {
   "cell_type": "code",
   "execution_count": 9,
   "id": "2c769cb2-e909-4a32-ad58-a5646eea1669",
   "metadata": {},
   "outputs": [],
   "source": [
    "columns_to = ['CryoSleep', 'HomePlanet', 'VIP']\n",
    "for i in columns_to:\n",
    "    df[i] = df[i].fillna(df[i].mode()[0]).astype('category')\n",
    "    df_pred[i] = df_pred[i].fillna(df[i].mode()[0]).astype('category')"
   ]
  },
  {
   "cell_type": "markdown",
   "id": "6f5205f7-2c97-4583-a6eb-169acfd86124",
   "metadata": {},
   "source": [
    "## Cabin\n",
    "- Создаю три столба из Cabin: Deck, Num, Side.\n",
    "- Удаляю Cabin."
   ]
  },
  {
   "cell_type": "code",
   "execution_count": 10,
   "id": "a4e3a163-1ef3-42d3-9dc8-3c84c1bc4643",
   "metadata": {},
   "outputs": [],
   "source": [
    "df['Deck'] = df['Cabin'].apply(lambda x: x.split('/')[0] if isinstance(x, str) else x)\n",
    "df['Num'] = df['Cabin'].apply(lambda x: x.split('/')[1] if isinstance(x, str) else x)\n",
    "df['Side'] = df['Cabin'].apply(lambda x: x.split('/')[2] if isinstance(x, str) else x)\n",
    "df.drop(columns='Cabin', inplace=True)\n",
    "\n",
    "df_pred['Deck'] = df_pred['Cabin'].apply(lambda x: x.split('/')[0] if isinstance(x, str) else x)\n",
    "df_pred['Num'] = df_pred['Cabin'].apply(lambda x: x.split('/')[1] if isinstance(x, str) else x)\n",
    "df_pred['Side'] = df_pred['Cabin'].apply(lambda x: x.split('/')[2] if isinstance(x, str) else x)\n",
    "df_pred.drop(columns='Cabin', inplace=True)"
   ]
  },
  {
   "cell_type": "code",
   "execution_count": 11,
   "id": "75b390c3-d98c-4637-91ac-17f791293d87",
   "metadata": {},
   "outputs": [],
   "source": [
    "df['Deck'] = df.Deck.fillna(df.Deck.mode()[0]).astype('category')\n",
    "df['Num'] = df.Num.ffill().astype('int')\n",
    "df['Side'] = df.Side.fillna(df.Side.mode()[0]).astype('category')\n",
    "\n",
    "df_pred['Deck'] = df_pred.Deck.fillna(df_pred.Deck.mode()[0]).astype('category')\n",
    "df_pred['Num'] = df_pred.Num.ffill().astype('int')\n",
    "df_pred['Side'] = df_pred.Side.fillna(df_pred.Side.mode()[0]).astype('category')"
   ]
  },
  {
   "cell_type": "markdown",
   "id": "66ba720b-5ef5-41b3-98d9-2f6b4e7de2b9",
   "metadata": {},
   "source": [
    "## Destination\n",
    "- Nan заменяю на моду"
   ]
  },
  {
   "cell_type": "code",
   "execution_count": 12,
   "id": "0f854cfa-f861-4741-8623-d570ef9c06fd",
   "metadata": {},
   "outputs": [],
   "source": [
    "df['Destination'] = df.Destination.fillna(df.Destination.mode()[0]).astype('category')\n",
    "df_pred['Destination'] = df_pred.Destination.fillna(df_pred.Destination.mode()[0]).astype('category')"
   ]
  },
  {
   "cell_type": "markdown",
   "id": "e24784c3-714b-409b-85b7-06e8dc08cf0f",
   "metadata": {},
   "source": [
    "## Age\n",
    "- Nan значение заменяю на сред. значение.\n",
    "- Есть значения с 0\n",
    "- посмотреь может медианна лучше будет."
   ]
  },
  {
   "cell_type": "code",
   "execution_count": 13,
   "id": "25d63296-4746-436d-bd94-ecf93f9ce123",
   "metadata": {},
   "outputs": [],
   "source": [
    "df.Age.fillna(df.Age.mean(), inplace=True)\n",
    "df_pred.Age.fillna(df.Age.mean(), inplace=True)"
   ]
  },
  {
   "cell_type": "markdown",
   "id": "0621867f-673f-4b72-aedc-cca7e60d9e01",
   "metadata": {},
   "source": [
    "## Name\n",
    "- Удаляю\n",
    "- Нужно придумать как из имен сделать признак с полом"
   ]
  },
  {
   "cell_type": "code",
   "execution_count": 14,
   "id": "ff5898c2-e865-4db4-878c-064e66e2b4f0",
   "metadata": {},
   "outputs": [],
   "source": [
    "df.drop(columns='Name', inplace=True)\n",
    "df_pred.drop(columns='Name', inplace=True)"
   ]
  },
  {
   "cell_type": "markdown",
   "id": "297061ee-56fc-43fb-bae3-7ec6f8304692",
   "metadata": {},
   "source": [
    "## HasServices\n",
    "- Создаем признак (были ли вообще траты)"
   ]
  },
  {
   "cell_type": "code",
   "execution_count": 15,
   "id": "5b6e0b00-d16f-46a6-9bc7-90611d65414e",
   "metadata": {},
   "outputs": [],
   "source": [
    "df['HasServices'] = (df['TotalServices'] > 0).astype('category')\n",
    "df_pred['HasServices'] = (df_pred['TotalServices'] > 0).astype('category')"
   ]
  },
  {
   "cell_type": "markdown",
   "id": "2fe45ee4-9c95-4bbc-af40-7b0aacb022c8",
   "metadata": {},
   "source": [
    "## Модель"
   ]
  },
  {
   "cell_type": "code",
   "execution_count": 16,
   "id": "3859902c-49e3-41b8-8de7-b2cdbf8f23be",
   "metadata": {},
   "outputs": [],
   "source": [
    "X = df.drop(columns='Transported')\n",
    "y = df['Transported']"
   ]
  },
  {
   "cell_type": "code",
   "execution_count": 17,
   "id": "d86f0b93-07ea-4fb7-b4ae-c3383b9836f0",
   "metadata": {},
   "outputs": [],
   "source": [
    "lst = []\n",
    "for i in X.columns:\n",
    "    if df[i].dtypes == 'category':\n",
    "        lst.append(i)"
   ]
  },
  {
   "cell_type": "code",
   "execution_count": 18,
   "id": "07e7b426-ab1c-4b63-97de-0c006768b9f2",
   "metadata": {},
   "outputs": [],
   "source": [
    "X_train, X_test, y_train, y_test = train_test_split(X, y, test_size=0.2, random_state=42)"
   ]
  },
  {
   "cell_type": "code",
   "execution_count": 19,
   "id": "65a3931c-5576-4157-95fb-a2c0fc34e1b1",
   "metadata": {},
   "outputs": [],
   "source": [
    "# def objective(trial: optuna.Trial):\n",
    "#     '''\n",
    "#     Обычная сигнатура функции оптимизации для optuna.\n",
    "#     '''\n",
    "#     params = {\n",
    "#         'random_seed': 42,\n",
    "#         'iterations': trial.suggest_int('iterations', 300, 2000),\n",
    "#         'learning_rate': trial.suggest_float('learning_rate', 1e-3, 0.1, log=True),\n",
    "#     }\n",
    "    \n",
    "#     model = CatBoostClassifier(**params, verbose=False, cat_features=lst)\n",
    "#     model.fit(X_train, y_train)\n",
    "#     predictions = model.predict(X_test)\n",
    "#     return f1_score(predictions, y_test)\n",
    "\n",
    "# study = optuna.create_study(direction='maximize')\n",
    "# study.optimize(objective, n_trials=100)\n",
    "# study.best_params"
   ]
  },
  {
   "cell_type": "code",
   "execution_count": 20,
   "id": "288126b4-0205-49c3-9b39-ac4e93100540",
   "metadata": {},
   "outputs": [],
   "source": [
    "best_params = {\n",
    "    'cat_features': lst,\n",
    "    'verbose': 0,\n",
    "    'random_seed': 42,\n",
    "    'learning_rate': 0.020169513723436013,\n",
    "    'iterations': 2000,\n",
    "    'depth': 6\n",
    "}\n",
    "# 0.8004410143329658"
   ]
  },
  {
   "cell_type": "code",
   "execution_count": 21,
   "id": "46a81d81-ef93-4fa7-9a03-b0b54e5fe6c1",
   "metadata": {},
   "outputs": [],
   "source": [
    "model = CatBoostClassifier(**best_params)\n",
    "model.fit(X, y)\n",
    "# y_pred = model.predict(X_test)\n",
    "pred = model.predict(df_pred)"
   ]
  },
  {
   "cell_type": "code",
   "execution_count": 22,
   "id": "d1d6ca36-ac37-431f-9b5c-8ae977c2d41f",
   "metadata": {},
   "outputs": [],
   "source": [
    "output = pd.DataFrame({'PassengerId': df_pred_PassengerId, 'Transported': pred})\n",
    "output['Transported'] = output['Transported'].astype(bool)\n",
    "output.to_csv('submission_cat.csv', index=False)"
   ]
  },
  {
   "attachments": {},
   "cell_type": "markdown",
   "id": "3ed001e4-e8a8-438b-aea9-f61e3b1a1530",
   "metadata": {},
   "source": [
    "# kaggel score = 0.80243"
   ]
  },
  {
   "cell_type": "code",
   "execution_count": null,
   "id": "1a79cf48-ed5a-443c-b8b9-3ba8b03bb2b7",
   "metadata": {},
   "outputs": [],
   "source": []
  }
 ],
 "metadata": {
  "kernelspec": {
   "display_name": "cat",
   "language": "python",
   "name": "cat"
  },
  "language_info": {
   "codemirror_mode": {
    "name": "ipython",
    "version": 3
   },
   "file_extension": ".py",
   "mimetype": "text/x-python",
   "name": "python",
   "nbconvert_exporter": "python",
   "pygments_lexer": "ipython3",
   "version": "3.11.4"
  }
 },
 "nbformat": 4,
 "nbformat_minor": 5
}
